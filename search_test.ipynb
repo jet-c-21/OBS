{
 "cells": [
  {
   "cell_type": "code",
   "execution_count": 1,
   "metadata": {},
   "outputs": [],
   "source": [
    "from OBS.obs import OBS"
   ]
  },
  {
   "cell_type": "code",
   "execution_count": 2,
   "metadata": {},
   "outputs": [],
   "source": [
    "DOC_PATH = 'doc'"
   ]
  },
  {
   "cell_type": "code",
   "execution_count": 3,
   "metadata": {},
   "outputs": [
    {
     "name": "stderr",
     "output_type": "stream",
     "text": [
      "\r",
      "  0%|                                                                                                                 | 0/60 [00:00<?, ?it/s]"
     ]
    },
    {
     "name": "stdout",
     "output_type": "stream",
     "text": [
      "[INFO] ➤ loading documents ...\n"
     ]
    },
    {
     "name": "stderr",
     "output_type": "stream",
     "text": [
      "100%|████████████████████████████████████████████████████████████████████████████████████████████████████████| 60/60 [00:57<00:00,  1.05it/s]"
     ]
    },
    {
     "name": "stdout",
     "output_type": "stream",
     "text": [
      "[INFO] ➤ finish loading documents\n"
     ]
    },
    {
     "name": "stderr",
     "output_type": "stream",
     "text": [
      "\n"
     ]
    }
   ],
   "source": [
    "if __name__ == '__main__':\n",
    "    obs = OBS(DOC_PATH)\n",
    "    obs.load()"
   ]
  },
  {
   "cell_type": "code",
   "execution_count": 17,
   "metadata": {},
   "outputs": [],
   "source": [
    "q = 'what is compiler'"
   ]
  },
  {
   "cell_type": "code",
   "execution_count": 18,
   "metadata": {},
   "outputs": [
    {
     "name": "stdout",
     "output_type": "stream",
     "text": [
      "result - 1    match: 0\n",
      "file name : midterm.pdf \n",
      "  sub dir : midterm \n",
      "     path : doc/midterm/midterm.pdf\n",
      "\n",
      "result - 2    match: 0\n",
      "file name : 01-01-introduction-annotated.pdf \n",
      "  sub dir : part1 \n",
      "     path : doc/part1/01-01-introduction-annotated.pdf\n",
      "\n",
      "result - 3    match: 0\n",
      "file name : 01-02-structure-of-a-compiler-annotated.pdf \n",
      "  sub dir : part1 \n",
      "     path : doc/part1/01-02-structure-of-a-compiler-annotated.pdf\n",
      "\n",
      "result - 4    match: 0\n",
      "file name : 01-03-the-economy-of-programming-languages-annotated.pdf \n",
      "  sub dir : part1 \n",
      "     path : doc/part1/01-03-the-economy-of-programming-languages-annotated.pdf\n",
      "\n",
      "result - 5    match: 0\n",
      "file name : 03-01-lexical-analysis-annotated.pdf \n",
      "  sub dir : part1 \n",
      "     path : doc/part1/03-01-lexical-analysis-annotated.pdf\n",
      "\n"
     ]
    }
   ],
   "source": [
    "obs.query_by_match(q, view=5)"
   ]
  },
  {
   "cell_type": "code",
   "execution_count": 19,
   "metadata": {},
   "outputs": [
    {
     "name": "stdout",
     "output_type": "stream",
     "text": [
      "result - 1    match: 40\n",
      "file name : 01-02-structure-of-a-compiler-annotated.pdf \n",
      "  sub dir : part1 \n",
      "     path : doc/part1/01-02-structure-of-a-compiler-annotated.pdf\n",
      "\n",
      "result - 2    match: 33\n",
      "file name : 12-06-object-layout-annotated.pdf \n",
      "  sub dir : part2 \n",
      "     path : doc/part2/12-06-object-layout-annotated.pdf\n",
      "\n",
      "result - 3    match: 30\n",
      "file name : 11-02-activations-annotated.pdf \n",
      "  sub dir : part2 \n",
      "     path : doc/part2/11-02-activations-annotated.pdf\n",
      "\n",
      "result - 4    match: 23\n",
      "file name : 09-05-type-checking-annotated.pdf \n",
      "  sub dir : part2 \n",
      "     path : doc/part2/09-05-type-checking-annotated.pdf\n",
      "\n",
      "result - 5    match: 22\n",
      "file name : midterm.pdf \n",
      "  sub dir : midterm \n",
      "     path : doc/midterm/midterm.pdf\n",
      "\n",
      "result - 6    match: 22\n",
      "file name : 12-03-code-generation-ii-annotated.pdf \n",
      "  sub dir : part2 \n",
      "     path : doc/part2/12-03-code-generation-ii-annotated.pdf\n",
      "\n",
      "result - 7    match: 21\n",
      "file name : 08-02-recognizing-handles-annotated.pdf \n",
      "  sub dir : part1 \n",
      "     path : doc/part1/08-02-recognizing-handles-annotated.pdf\n",
      "\n",
      "result - 8    match: 17\n",
      "file name : 11-03-activation-records-annotated.pdf \n",
      "  sub dir : part2 \n",
      "     path : doc/part2/11-03-activation-records-annotated.pdf\n",
      "\n",
      "result - 9    match: 16\n",
      "file name : 01-01-introduction-annotated.pdf \n",
      "  sub dir : part1 \n",
      "     path : doc/part1/01-01-introduction-annotated.pdf\n",
      "\n",
      "result - 10    match: 16\n",
      "file name : 11-06-stack-machines-annotated.pdf \n",
      "  sub dir : part2 \n",
      "     path : doc/part2/11-06-stack-machines-annotated.pdf\n",
      "\n",
      "result - 11    match: 16\n",
      "file name : 13-01-semantics-overview-annotated.pdf \n",
      "  sub dir : part2 \n",
      "     path : doc/part2/13-01-semantics-overview-annotated.pdf\n",
      "\n",
      "result - 12    match: 15\n",
      "file name : 07-06-shift-reduce-parsing-annotated.pdf \n",
      "  sub dir : part1 \n",
      "     path : doc/part1/07-06-shift-reduce-parsing-annotated.pdf\n",
      "\n",
      "result - 13    match: 14\n",
      "file name : 08-05-slr-parsing-annotated.pdf \n",
      "  sub dir : part1 \n",
      "     path : doc/part1/08-05-slr-parsing-annotated.pdf\n",
      "\n",
      "result - 14    match: 14\n",
      "file name : 08-07-slr-improvements-annotated.pdf \n",
      "  sub dir : part1 \n",
      "     path : doc/part1/08-07-slr-improvements-annotated.pdf\n",
      "\n",
      "result - 15    match: 14\n",
      "file name : 13-02-operational-semantics-annotated.pdf \n",
      "  sub dir : part2 \n",
      "     path : doc/part2/13-02-operational-semantics-annotated.pdf\n",
      "\n",
      "result - 16    match: 13\n",
      "file name : 03-01-lexical-analysis-annotated.pdf \n",
      "  sub dir : part1 \n",
      "     path : doc/part1/03-01-lexical-analysis-annotated.pdf\n",
      "\n",
      "result - 17    match: 13\n",
      "file name : 09-06-type-environments-annotated.pdf \n",
      "  sub dir : part2 \n",
      "     path : doc/part2/09-06-type-environments-annotated.pdf\n",
      "\n",
      "result - 18    match: 12\n",
      "file name : 05-04-ambiguity-annotated.pdf \n",
      "  sub dir : part1 \n",
      "     path : doc/part1/05-04-ambiguity-annotated.pdf\n",
      "\n",
      "result - 19    match: 12\n",
      "file name : 06-01-error-handling-annotated.pdf \n",
      "  sub dir : part1 \n",
      "     path : doc/part1/06-01-error-handling-annotated.pdf\n",
      "\n",
      "result - 20    match: 12\n",
      "file name : 09-04-types-annotated.pdf \n",
      "  sub dir : part2 \n",
      "     path : doc/part2/09-04-types-annotated.pdf\n",
      "\n"
     ]
    }
   ],
   "source": [
    "obs.query(q, 20)"
   ]
  },
  {
   "cell_type": "code",
   "execution_count": null,
   "metadata": {},
   "outputs": [],
   "source": []
  }
 ],
 "metadata": {
  "kernelspec": {
   "display_name": "Python 3",
   "language": "python",
   "name": "python3"
  },
  "language_info": {
   "codemirror_mode": {
    "name": "ipython",
    "version": 3
   },
   "file_extension": ".py",
   "mimetype": "text/x-python",
   "name": "python",
   "nbconvert_exporter": "python",
   "pygments_lexer": "ipython3",
   "version": "3.7.9"
  }
 },
 "nbformat": 4,
 "nbformat_minor": 4
}
